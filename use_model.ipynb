{
  "nbformat": 4,
  "nbformat_minor": 0,
  "metadata": {
    "colab": {
      "provenance": [],
      "authorship_tag": "ABX9TyMkizx1vAsiZpjcqdtQt6co",
      "include_colab_link": true
    },
    "kernelspec": {
      "name": "python3",
      "display_name": "Python 3"
    },
    "language_info": {
      "name": "python"
    }
  },
  "cells": [
    {
      "cell_type": "markdown",
      "metadata": {
        "id": "view-in-github",
        "colab_type": "text"
      },
      "source": [
        "<a href=\"https://colab.research.google.com/github/drsunithaev/cancer_detection/blob/main/use_model.ipynb\" target=\"_parent\"><img src=\"https://colab.research.google.com/assets/colab-badge.svg\" alt=\"Open In Colab\"/></a>"
      ]
    },
    {
      "cell_type": "markdown",
      "source": [
        "# Use the best model saved during training"
      ],
      "metadata": {
        "id": "NlArE7bp5kg8"
      }
    },
    {
      "cell_type": "markdown",
      "source": [
        "### connect to drive"
      ],
      "metadata": {
        "id": "J4da4ClS5sFy"
      }
    },
    {
      "cell_type": "code",
      "execution_count": null,
      "metadata": {
        "colab": {
          "base_uri": "https://localhost:8080/"
        },
        "id": "w4L_ahU92CI3",
        "outputId": "e9e6b655-1896-4f71-a8f3-6678afd12714"
      },
      "outputs": [
        {
          "output_type": "stream",
          "name": "stdout",
          "text": [
            "Mounted at /content/drive\n"
          ]
        }
      ],
      "source": [
        "from google.colab import drive\n",
        "drive.mount('/content/drive')"
      ]
    },
    {
      "cell_type": "markdown",
      "source": [
        "### import packages"
      ],
      "metadata": {
        "id": "A-kyZDDN5umb"
      }
    },
    {
      "cell_type": "code",
      "source": [
        "import os\n",
        "import pandas as pd\n",
        "import numpy as np\n",
        "import random\n",
        "import shutil\n",
        "from shutil import copyfile\n",
        "import tensorflow as tf\n",
        "from tensorflow.keras.preprocessing import image\n",
        "from tensorflow.keras.preprocessing.image import ImageDataGenerator, img_to_array, load_img\n",
        "from tensorflow.keras import Model\n",
        "import matplotlib.pyplot as plt\n",
        "import matplotlib.image as mpimg\n",
        "from matplotlib.offsetbox import (TextArea, DrawingArea, OffsetImage,\n",
        "                                  AnnotationBbox)\n",
        "import matplotlib.patches as mpatches\n",
        "from sklearn.utils import shuffle\n",
        "from tqdm import tqdm"
      ],
      "metadata": {
        "id": "mWZFvjMD2FsG"
      },
      "execution_count": null,
      "outputs": []
    },
    {
      "cell_type": "markdown",
      "source": [
        "### Folder in which the pretrained model is saved"
      ],
      "metadata": {
        "id": "piDWWRJl2yKJ"
      }
    },
    {
      "cell_type": "code",
      "source": [
        "my_dir = '/content/drive/MyDrive/Brain/models'"
      ],
      "metadata": {
        "id": "H58NTpgk2coC"
      },
      "execution_count": null,
      "outputs": []
    },
    {
      "cell_type": "markdown",
      "source": [
        "### load the model (from .pb file)"
      ],
      "metadata": {
        "id": "k-aI5eM024eS"
      }
    },
    {
      "cell_type": "code",
      "source": [
        "my_model = tf.keras.models.load_model(my_dir)"
      ],
      "metadata": {
        "id": "gq4ulvMe2GZl"
      },
      "execution_count": null,
      "outputs": []
    },
    {
      "cell_type": "code",
      "source": [
        "my_main_dir = '/content/drive/MyDrive/Brain'\n",
        "base_dir  = my_main_dir + '/_MODELLING'\n",
        "os.chdir(base_dir)"
      ],
      "metadata": {
        "id": "qKOxOGCF4FSX"
      },
      "execution_count": null,
      "outputs": []
    },
    {
      "cell_type": "markdown",
      "source": [
        "### generate training data"
      ],
      "metadata": {
        "id": "bhzPRwjT5_eZ"
      }
    },
    {
      "cell_type": "code",
      "source": [
        "def train_val_generators(TRAINING_DIR, VALIDATION_DIR, TEST_DIR):\n",
        "\n",
        "    # Instantiate the ImageDataGenerator class (don't forget to set the arguments to augment the images)\n",
        "    train_datagen = ImageDataGenerator(rescale=1./127.5,\n",
        "                                     rotation_range=30,\n",
        "                                     width_shift_range=0.2,\n",
        "                                     height_shift_range=0.2,\n",
        "                                     shear_range=0.2,\n",
        "                                     zoom_range=0.2,\n",
        "                                     horizontal_flip=True,\n",
        "                                     fill_mode='nearest')\n",
        "\n",
        "    # Pass in the appropriate arguments to the flow_from_directory method\n",
        "    train_generator = train_datagen.flow_from_directory(directory=TRAINING_DIR,\n",
        "                                                      batch_size=32,\n",
        "                                                      class_mode='binary',\n",
        "                                                      target_size=(150, 150))\n",
        "\n",
        "    # Instantiate the ImageDataGenerator class (don't forget to set the rescale argument)\n",
        "    valid_or_test_datagen = ImageDataGenerator(rescale=1./127.5)\n",
        "\n",
        "    # Pass in the appropriate arguments to the flow_from_directory method\n",
        "    validation_generator = valid_or_test_datagen.flow_from_directory(directory=VALIDATION_DIR,\n",
        "                                                                batch_size=32,\n",
        "                                                                class_mode='binary',\n",
        "                                                                target_size=(150, 150))\n",
        "\n",
        "    test_generator = valid_or_test_datagen.flow_from_directory(directory=TEST_DIR,\n",
        "                                                                batch_size=32,\n",
        "                                                                class_mode='binary',\n",
        "                                                                target_size=(150, 150))\n",
        "    return train_generator, validation_generator, test_generator"
      ],
      "metadata": {
        "id": "WD8UCxiV3_nA"
      },
      "execution_count": null,
      "outputs": []
    },
    {
      "cell_type": "code",
      "source": [
        "training_dir = os.path.join(base_dir, 'training')\n",
        "validation_dir = os.path.join(base_dir, 'validation')\n",
        "testing_dir = os.path.join(base_dir, 'testing')\n",
        "\n",
        "train_generator, validation_generator, test_generator = train_val_generators(training_dir, validation_dir, testing_dir)"
      ],
      "metadata": {
        "colab": {
          "base_uri": "https://localhost:8080/"
        },
        "id": "oE9M-IQQ2xPB",
        "outputId": "d908b9a8-a199-4db2-88cb-4c9e17a5a874"
      },
      "execution_count": null,
      "outputs": [
        {
          "output_type": "stream",
          "name": "stdout",
          "text": [
            "Found 3009 images belonging to 2 classes.\n",
            "Found 376 images belonging to 2 classes.\n",
            "Found 377 images belonging to 2 classes.\n"
          ]
        }
      ]
    },
    {
      "cell_type": "markdown",
      "source": [
        "### find accurracy"
      ],
      "metadata": {
        "id": "cVOfHZvT6EOZ"
      }
    },
    {
      "cell_type": "code",
      "source": [
        "loss, accuracy = my_model.evaluate(test_generator)\n",
        "print('Test accuracy :', accuracy)"
      ],
      "metadata": {
        "colab": {
          "base_uri": "https://localhost:8080/"
        },
        "id": "Rg_dWh7d3kwy",
        "outputId": "ce83d91f-84ee-4e55-dbe3-95eb013c26d6"
      },
      "execution_count": null,
      "outputs": [
        {
          "output_type": "stream",
          "name": "stdout",
          "text": [
            "12/12 [==============================] - 35s 3s/step - loss: 0.3178 - accuracy: 0.8859\n",
            "Test accuracy : 0.8859416246414185\n"
          ]
        }
      ]
    },
    {
      "cell_type": "code",
      "source": [
        "my_model.save('/content/drive/MyDrive/Brain/fine_tune_models')"
      ],
      "metadata": {
        "id": "5bHK36ZhAZHQ"
      },
      "execution_count": null,
      "outputs": []
    },
    {
      "cell_type": "markdown",
      "source": [
        "### save as h5 file"
      ],
      "metadata": {
        "id": "7P94sg9VHWMr"
      }
    },
    {
      "cell_type": "code",
      "source": [
        "my_model.save('/content/drive/MyDrive/Brain/my_models/model1.h5')"
      ],
      "metadata": {
        "colab": {
          "base_uri": "https://localhost:8080/"
        },
        "id": "pdPQhM73A4pH",
        "outputId": "0df40959-99c4-4736-bb2b-9a100ff1802c"
      },
      "execution_count": null,
      "outputs": [
        {
          "output_type": "stream",
          "name": "stderr",
          "text": [
            "/usr/local/lib/python3.10/dist-packages/keras/src/engine/training.py:3000: UserWarning: You are saving your model as an HDF5 file via `model.save()`. This file format is considered legacy. We recommend using instead the native Keras format, e.g. `model.save('my_model.keras')`.\n",
            "  saving_api.save_model(\n"
          ]
        }
      ]
    },
    {
      "cell_type": "markdown",
      "source": [
        "### load h5 file"
      ],
      "metadata": {
        "id": "eUFN0ZJNHY79"
      }
    },
    {
      "cell_type": "code",
      "source": [
        "my_mode_l = tf.keras.models.load_model('/content/drive/MyDrive/Brain/my_models/model1.h5')"
      ],
      "metadata": {
        "id": "qpZOeMRzFEW_"
      },
      "execution_count": null,
      "outputs": []
    },
    {
      "cell_type": "code",
      "source": [
        "loss, accuracy = my_mode_l.evaluate(test_generator)\n",
        "print('Test accuracy :', accuracy)"
      ],
      "metadata": {
        "colab": {
          "base_uri": "https://localhost:8080/"
        },
        "id": "mbLSUm19HTvf",
        "outputId": "ffae6160-86bb-4311-b76f-ffae242bdf52"
      },
      "execution_count": null,
      "outputs": [
        {
          "output_type": "stream",
          "name": "stdout",
          "text": [
            "12/12 [==============================] - 11s 652ms/step - loss: 0.3178 - accuracy: 0.8859\n",
            "Test accuracy : 0.8859416246414185\n"
          ]
        }
      ]
    },
    {
      "cell_type": "markdown",
      "source": [
        "# evaluating Precision, Recall , specificity and F1 score"
      ],
      "metadata": {
        "id": "V5yDNbqaVM3R"
      }
    },
    {
      "cell_type": "markdown",
      "source": [
        "### get testing images"
      ],
      "metadata": {
        "id": "OG7zkR-EVW9o"
      }
    },
    {
      "cell_type": "code",
      "source": [
        "selected_paths = [] ; selected_labels = []\n",
        "testing_path_0 = os.path.join(base_dir, 'testing', '0')\n",
        "for x in random.sample(os.listdir(testing_path_0),10):\n",
        "    selected_paths.append(os.path.join(testing_path_0, x))\n",
        "    selected_labels.append(0)\n",
        "\n",
        "testing_path_1 = os.path.join(base_dir, 'testing', '1')\n",
        "for x in random.sample(os.listdir(testing_path_1),10):\n",
        "    selected_paths.append(os.path.join(testing_path_1, x))\n",
        "    selected_labels.append(1)"
      ],
      "metadata": {
        "id": "zhbyjNb2VL8M"
      },
      "execution_count": null,
      "outputs": []
    },
    {
      "cell_type": "code",
      "source": [
        "X, y = shuffle(selected_paths, selected_labels, random_state=0)"
      ],
      "metadata": {
        "id": "nvSZRb6iHeam"
      },
      "execution_count": null,
      "outputs": []
    },
    {
      "cell_type": "markdown",
      "source": [
        "### get predictions"
      ],
      "metadata": {
        "id": "jeMfIp6eV8Zd"
      }
    },
    {
      "cell_type": "code",
      "source": [
        "y_truee = []\n",
        "y_pred = []\n",
        "for vis_image, y_true in zip(X, y):\n",
        "    img = image.load_img(vis_image, target_size=(150, 150))\n",
        "    x = image.img_to_array(img)\n",
        "    x /= 127.5\n",
        "    x = np.expand_dims(x, axis=0)\n",
        "    preprocess_images = np.vstack([x])\n",
        "    classes = model.predict(preprocess_images, batch_size=10)\n",
        "    score = tf.nn.sigmoid(classes[0])\n",
        "    if classes[0]>0.5:\n",
        "        predicted_label = 1\n",
        "    else:\n",
        "        predicted_label =0\n",
        "    y_truee = y_truee.append(y_true)\n",
        "    y_pred = y_pred.append(predicted_label)\n",
        "    #plt.title(f'True Label: {y_true} \\n Predicted Label: {predicted_label} with a {100 * np.max(score):.2f} percent confidence.')\n",
        "    #plt.imshow(img)\n",
        "    #plt.show()"
      ],
      "metadata": {
        "id": "hpl2t30oV11U"
      },
      "execution_count": null,
      "outputs": []
    }
  ]
}